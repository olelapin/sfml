{
 "cells": [
  {
   "cell_type": "code",
   "execution_count": 1,
   "metadata": {
    "collapsed": true
   },
   "outputs": [],
   "source": [
    "import pandas as pd\n",
    "import numpy as np\n",
    "from sklearn import linear_model\n",
    "from sklearn import model_selection\n",
    "from sklearn import metrics\n",
    "from sklearn import preprocessing\n",
    "from sklearn.feature_selection import RFE\n",
    "from sklearn.model_selection import train_test_split\n",
    "from sklearn.linear_model import LogisticRegression\n",
    "from sklearn.neighbors import KNeighborsClassifier\n",
    "import matplotlib.pyplot as plt \n",
    "import seaborn as sns"
   ]
  },
  {
   "cell_type": "code",
   "execution_count": 75,
   "metadata": {
    "collapsed": true
   },
   "outputs": [],
   "source": [
    "from sklearn.preprocessing import OneHotEncoder, PolynomialFeatures\n",
    "from sklearn.pipeline import Pipeline\n",
    "from sklearn.preprocessing import StandardScaler\n",
    "from sklearn.metrics import roc_auc_score"
   ]
  },
  {
   "cell_type": "code",
   "execution_count": 2,
   "metadata": {
    "collapsed": true
   },
   "outputs": [],
   "source": [
    "plt.rc(\"font\", size=14)\n",
    "sns.set(style=\"white\")\n",
    "sns.set(style=\"whitegrid\", color_codes=True)"
   ]
  },
  {
   "cell_type": "code",
   "execution_count": 10,
   "metadata": {
    "collapsed": false
   },
   "outputs": [
    {
     "name": "stdout",
     "output_type": "stream",
     "text": [
      "(24712, 22)\n"
     ]
    },
    {
     "data": {
      "text/html": [
       "<div>\n",
       "<table border=\"1\" class=\"dataframe\">\n",
       "  <thead>\n",
       "    <tr style=\"text-align: right;\">\n",
       "      <th></th>\n",
       "      <th>count</th>\n",
       "      <th>unique</th>\n",
       "      <th>top</th>\n",
       "      <th>freq</th>\n",
       "      <th>mean</th>\n",
       "      <th>std</th>\n",
       "      <th>min</th>\n",
       "      <th>25%</th>\n",
       "      <th>50%</th>\n",
       "      <th>75%</th>\n",
       "      <th>max</th>\n",
       "    </tr>\n",
       "  </thead>\n",
       "  <tbody>\n",
       "    <tr>\n",
       "      <th>age</th>\n",
       "      <td>24712</td>\n",
       "      <td>NaN</td>\n",
       "      <td>NaN</td>\n",
       "      <td>NaN</td>\n",
       "      <td>40.0302</td>\n",
       "      <td>10.4623</td>\n",
       "      <td>17</td>\n",
       "      <td>32</td>\n",
       "      <td>38</td>\n",
       "      <td>47</td>\n",
       "      <td>98</td>\n",
       "    </tr>\n",
       "    <tr>\n",
       "      <th>job</th>\n",
       "      <td>24712</td>\n",
       "      <td>12</td>\n",
       "      <td>admin.</td>\n",
       "      <td>6254</td>\n",
       "      <td>NaN</td>\n",
       "      <td>NaN</td>\n",
       "      <td>NaN</td>\n",
       "      <td>NaN</td>\n",
       "      <td>NaN</td>\n",
       "      <td>NaN</td>\n",
       "      <td>NaN</td>\n",
       "    </tr>\n",
       "    <tr>\n",
       "      <th>marital</th>\n",
       "      <td>24712</td>\n",
       "      <td>4</td>\n",
       "      <td>married</td>\n",
       "      <td>14871</td>\n",
       "      <td>NaN</td>\n",
       "      <td>NaN</td>\n",
       "      <td>NaN</td>\n",
       "      <td>NaN</td>\n",
       "      <td>NaN</td>\n",
       "      <td>NaN</td>\n",
       "      <td>NaN</td>\n",
       "    </tr>\n",
       "    <tr>\n",
       "      <th>education</th>\n",
       "      <td>24712</td>\n",
       "      <td>8</td>\n",
       "      <td>university.degree</td>\n",
       "      <td>7309</td>\n",
       "      <td>NaN</td>\n",
       "      <td>NaN</td>\n",
       "      <td>NaN</td>\n",
       "      <td>NaN</td>\n",
       "      <td>NaN</td>\n",
       "      <td>NaN</td>\n",
       "      <td>NaN</td>\n",
       "    </tr>\n",
       "    <tr>\n",
       "      <th>default</th>\n",
       "      <td>24712</td>\n",
       "      <td>3</td>\n",
       "      <td>no</td>\n",
       "      <td>19567</td>\n",
       "      <td>NaN</td>\n",
       "      <td>NaN</td>\n",
       "      <td>NaN</td>\n",
       "      <td>NaN</td>\n",
       "      <td>NaN</td>\n",
       "      <td>NaN</td>\n",
       "      <td>NaN</td>\n",
       "    </tr>\n",
       "    <tr>\n",
       "      <th>housing</th>\n",
       "      <td>24712</td>\n",
       "      <td>3</td>\n",
       "      <td>yes</td>\n",
       "      <td>12934</td>\n",
       "      <td>NaN</td>\n",
       "      <td>NaN</td>\n",
       "      <td>NaN</td>\n",
       "      <td>NaN</td>\n",
       "      <td>NaN</td>\n",
       "      <td>NaN</td>\n",
       "      <td>NaN</td>\n",
       "    </tr>\n",
       "    <tr>\n",
       "      <th>loan</th>\n",
       "      <td>24712</td>\n",
       "      <td>3</td>\n",
       "      <td>no</td>\n",
       "      <td>20334</td>\n",
       "      <td>NaN</td>\n",
       "      <td>NaN</td>\n",
       "      <td>NaN</td>\n",
       "      <td>NaN</td>\n",
       "      <td>NaN</td>\n",
       "      <td>NaN</td>\n",
       "      <td>NaN</td>\n",
       "    </tr>\n",
       "    <tr>\n",
       "      <th>contact</th>\n",
       "      <td>24712</td>\n",
       "      <td>2</td>\n",
       "      <td>cellular</td>\n",
       "      <td>15729</td>\n",
       "      <td>NaN</td>\n",
       "      <td>NaN</td>\n",
       "      <td>NaN</td>\n",
       "      <td>NaN</td>\n",
       "      <td>NaN</td>\n",
       "      <td>NaN</td>\n",
       "      <td>NaN</td>\n",
       "    </tr>\n",
       "    <tr>\n",
       "      <th>month</th>\n",
       "      <td>24712</td>\n",
       "      <td>10</td>\n",
       "      <td>may</td>\n",
       "      <td>8199</td>\n",
       "      <td>NaN</td>\n",
       "      <td>NaN</td>\n",
       "      <td>NaN</td>\n",
       "      <td>NaN</td>\n",
       "      <td>NaN</td>\n",
       "      <td>NaN</td>\n",
       "      <td>NaN</td>\n",
       "    </tr>\n",
       "    <tr>\n",
       "      <th>day_of_week</th>\n",
       "      <td>24712</td>\n",
       "      <td>5</td>\n",
       "      <td>thu</td>\n",
       "      <td>5144</td>\n",
       "      <td>NaN</td>\n",
       "      <td>NaN</td>\n",
       "      <td>NaN</td>\n",
       "      <td>NaN</td>\n",
       "      <td>NaN</td>\n",
       "      <td>NaN</td>\n",
       "      <td>NaN</td>\n",
       "    </tr>\n",
       "    <tr>\n",
       "      <th>duration</th>\n",
       "      <td>24712</td>\n",
       "      <td>NaN</td>\n",
       "      <td>NaN</td>\n",
       "      <td>NaN</td>\n",
       "      <td>258.345</td>\n",
       "      <td>261.573</td>\n",
       "      <td>0</td>\n",
       "      <td>102</td>\n",
       "      <td>180</td>\n",
       "      <td>319</td>\n",
       "      <td>4918</td>\n",
       "    </tr>\n",
       "    <tr>\n",
       "      <th>campaign</th>\n",
       "      <td>24712</td>\n",
       "      <td>NaN</td>\n",
       "      <td>NaN</td>\n",
       "      <td>NaN</td>\n",
       "      <td>2.58016</td>\n",
       "      <td>2.77676</td>\n",
       "      <td>1</td>\n",
       "      <td>1</td>\n",
       "      <td>2</td>\n",
       "      <td>3</td>\n",
       "      <td>43</td>\n",
       "    </tr>\n",
       "    <tr>\n",
       "      <th>pdays</th>\n",
       "      <td>24712</td>\n",
       "      <td>NaN</td>\n",
       "      <td>NaN</td>\n",
       "      <td>NaN</td>\n",
       "      <td>963.559</td>\n",
       "      <td>184.225</td>\n",
       "      <td>0</td>\n",
       "      <td>999</td>\n",
       "      <td>999</td>\n",
       "      <td>999</td>\n",
       "      <td>999</td>\n",
       "    </tr>\n",
       "    <tr>\n",
       "      <th>previous</th>\n",
       "      <td>24712</td>\n",
       "      <td>NaN</td>\n",
       "      <td>NaN</td>\n",
       "      <td>NaN</td>\n",
       "      <td>0.1719</td>\n",
       "      <td>0.491511</td>\n",
       "      <td>0</td>\n",
       "      <td>0</td>\n",
       "      <td>0</td>\n",
       "      <td>0</td>\n",
       "      <td>6</td>\n",
       "    </tr>\n",
       "    <tr>\n",
       "      <th>poutcome</th>\n",
       "      <td>24712</td>\n",
       "      <td>3</td>\n",
       "      <td>nonexistent</td>\n",
       "      <td>21346</td>\n",
       "      <td>NaN</td>\n",
       "      <td>NaN</td>\n",
       "      <td>NaN</td>\n",
       "      <td>NaN</td>\n",
       "      <td>NaN</td>\n",
       "      <td>NaN</td>\n",
       "      <td>NaN</td>\n",
       "    </tr>\n",
       "    <tr>\n",
       "      <th>emp.var.rate</th>\n",
       "      <td>24712</td>\n",
       "      <td>NaN</td>\n",
       "      <td>NaN</td>\n",
       "      <td>NaN</td>\n",
       "      <td>0.0827129</td>\n",
       "      <td>1.5723</td>\n",
       "      <td>-3.4</td>\n",
       "      <td>-1.8</td>\n",
       "      <td>1.1</td>\n",
       "      <td>1.4</td>\n",
       "      <td>1.4</td>\n",
       "    </tr>\n",
       "    <tr>\n",
       "      <th>cons.price.idx</th>\n",
       "      <td>24712</td>\n",
       "      <td>NaN</td>\n",
       "      <td>NaN</td>\n",
       "      <td>NaN</td>\n",
       "      <td>93.5764</td>\n",
       "      <td>0.579548</td>\n",
       "      <td>92.201</td>\n",
       "      <td>93.075</td>\n",
       "      <td>93.749</td>\n",
       "      <td>93.994</td>\n",
       "      <td>94.767</td>\n",
       "    </tr>\n",
       "    <tr>\n",
       "      <th>cons.conf.idx</th>\n",
       "      <td>24712</td>\n",
       "      <td>NaN</td>\n",
       "      <td>NaN</td>\n",
       "      <td>NaN</td>\n",
       "      <td>-40.5161</td>\n",
       "      <td>4.63936</td>\n",
       "      <td>-50.8</td>\n",
       "      <td>-42.7</td>\n",
       "      <td>-41.8</td>\n",
       "      <td>-36.4</td>\n",
       "      <td>-26.9</td>\n",
       "    </tr>\n",
       "    <tr>\n",
       "      <th>euribor3m</th>\n",
       "      <td>24712</td>\n",
       "      <td>NaN</td>\n",
       "      <td>NaN</td>\n",
       "      <td>NaN</td>\n",
       "      <td>3.6194</td>\n",
       "      <td>1.7371</td>\n",
       "      <td>0.634</td>\n",
       "      <td>1.344</td>\n",
       "      <td>4.857</td>\n",
       "      <td>4.961</td>\n",
       "      <td>5.045</td>\n",
       "    </tr>\n",
       "    <tr>\n",
       "      <th>nr.employed</th>\n",
       "      <td>24712</td>\n",
       "      <td>NaN</td>\n",
       "      <td>NaN</td>\n",
       "      <td>NaN</td>\n",
       "      <td>5166.99</td>\n",
       "      <td>72.5162</td>\n",
       "      <td>4963.6</td>\n",
       "      <td>5099.1</td>\n",
       "      <td>5191</td>\n",
       "      <td>5228.1</td>\n",
       "      <td>5228.1</td>\n",
       "    </tr>\n",
       "    <tr>\n",
       "      <th>target</th>\n",
       "      <td>24712</td>\n",
       "      <td>NaN</td>\n",
       "      <td>NaN</td>\n",
       "      <td>NaN</td>\n",
       "      <td>0.112779</td>\n",
       "      <td>0.316329</td>\n",
       "      <td>0</td>\n",
       "      <td>0</td>\n",
       "      <td>0</td>\n",
       "      <td>0</td>\n",
       "      <td>1</td>\n",
       "    </tr>\n",
       "  </tbody>\n",
       "</table>\n",
       "</div>"
      ],
      "text/plain": [
       "                count unique                top   freq       mean       std  \\\n",
       "age             24712    NaN                NaN    NaN    40.0302   10.4623   \n",
       "job             24712     12             admin.   6254        NaN       NaN   \n",
       "marital         24712      4            married  14871        NaN       NaN   \n",
       "education       24712      8  university.degree   7309        NaN       NaN   \n",
       "default         24712      3                 no  19567        NaN       NaN   \n",
       "housing         24712      3                yes  12934        NaN       NaN   \n",
       "loan            24712      3                 no  20334        NaN       NaN   \n",
       "contact         24712      2           cellular  15729        NaN       NaN   \n",
       "month           24712     10                may   8199        NaN       NaN   \n",
       "day_of_week     24712      5                thu   5144        NaN       NaN   \n",
       "duration        24712    NaN                NaN    NaN    258.345   261.573   \n",
       "campaign        24712    NaN                NaN    NaN    2.58016   2.77676   \n",
       "pdays           24712    NaN                NaN    NaN    963.559   184.225   \n",
       "previous        24712    NaN                NaN    NaN     0.1719  0.491511   \n",
       "poutcome        24712      3        nonexistent  21346        NaN       NaN   \n",
       "emp.var.rate    24712    NaN                NaN    NaN  0.0827129    1.5723   \n",
       "cons.price.idx  24712    NaN                NaN    NaN    93.5764  0.579548   \n",
       "cons.conf.idx   24712    NaN                NaN    NaN   -40.5161   4.63936   \n",
       "euribor3m       24712    NaN                NaN    NaN     3.6194    1.7371   \n",
       "nr.employed     24712    NaN                NaN    NaN    5166.99   72.5162   \n",
       "target          24712    NaN                NaN    NaN   0.112779  0.316329   \n",
       "\n",
       "                   min     25%     50%     75%     max  \n",
       "age                 17      32      38      47      98  \n",
       "job                NaN     NaN     NaN     NaN     NaN  \n",
       "marital            NaN     NaN     NaN     NaN     NaN  \n",
       "education          NaN     NaN     NaN     NaN     NaN  \n",
       "default            NaN     NaN     NaN     NaN     NaN  \n",
       "housing            NaN     NaN     NaN     NaN     NaN  \n",
       "loan               NaN     NaN     NaN     NaN     NaN  \n",
       "contact            NaN     NaN     NaN     NaN     NaN  \n",
       "month              NaN     NaN     NaN     NaN     NaN  \n",
       "day_of_week        NaN     NaN     NaN     NaN     NaN  \n",
       "duration             0     102     180     319    4918  \n",
       "campaign             1       1       2       3      43  \n",
       "pdays                0     999     999     999     999  \n",
       "previous             0       0       0       0       6  \n",
       "poutcome           NaN     NaN     NaN     NaN     NaN  \n",
       "emp.var.rate      -3.4    -1.8     1.1     1.4     1.4  \n",
       "cons.price.idx  92.201  93.075  93.749  93.994  94.767  \n",
       "cons.conf.idx    -50.8   -42.7   -41.8   -36.4   -26.9  \n",
       "euribor3m        0.634   1.344   4.857   4.961   5.045  \n",
       "nr.employed     4963.6  5099.1    5191  5228.1  5228.1  \n",
       "target               0       0       0       0       1  "
      ]
     },
     "execution_count": 10,
     "metadata": {},
     "output_type": "execute_result"
    }
   ],
   "source": [
    "data = pd.read_csv('train.csv', header=0, sep='\\t', encoding=\"utf8\") #, delimiter=';'\n",
    "data_test = pd.read_csv('test.csv', header=0, sep='\\t', encoding=\"utf8\") #, delimiter=';'\n",
    "#data = data.dropna() #(24712, 22) 16476\n",
    "print(data.shape)\n",
    "#print(list(data.columns))\n",
    "target = 'target'\n",
    "data = data.drop(['_id'], axis=1)\n",
    "data_test = data_test.drop(['_id'], axis=1)\n",
    "#data.info()\n",
    "data.describe(include='all').T\n",
    "#data.isnull().sum()\n",
    "#data.head()"
   ]
  },
  {
   "cell_type": "code",
   "execution_count": 47,
   "metadata": {
    "collapsed": false
   },
   "outputs": [],
   "source": [
    "X_col=[i for i in data.columns if i not in \"target\"]\n",
    "X = data[X_col]\n",
    "Y = data.target\n",
    "num_features = ['age', 'duration','campaign', 'pdays','previous','emp.var.rate','cons.price.idx','cons.conf.idx','euribor3m','nr.employed']  \n",
    "cat_features = ['job','marital','education','default','housing','loan','contact','month','day_of_week','poutcome']\n",
    "#[1,2,3,4,5,6,7,8,9,14]"
   ]
  },
  {
   "cell_type": "code",
   "execution_count": 73,
   "metadata": {
    "collapsed": true
   },
   "outputs": [],
   "source": [
    "X_with_dummies = pd.get_dummies( X, columns = cat_features )\n",
    "X_train, X_test, Y_train, Y_test = train_test_split(X_with_dummies, Y, test_size=0.33, random_state=42)"
   ]
  },
  {
   "cell_type": "code",
   "execution_count": 74,
   "metadata": {
    "collapsed": false
   },
   "outputs": [
    {
     "data": {
      "text/plain": [
       "KNeighborsClassifier(algorithm='auto', leaf_size=30, metric='euclidean',\n",
       "           metric_params=None, n_jobs=1, n_neighbors=5, p=2,\n",
       "           weights='uniform')"
      ]
     },
     "execution_count": 74,
     "metadata": {},
     "output_type": "execute_result"
    }
   ],
   "source": [
    "#k-means\n",
    "knn = KNeighborsClassifier(n_neighbors=5, weights='uniform', metric='euclidean')\n",
    "knn.fit(X_train, Y_train)\n",
    "y_hat = knn.predict(X_test)"
   ]
  },
  {
   "cell_type": "code",
   "execution_count": 76,
   "metadata": {
    "collapsed": true
   },
   "outputs": [],
   "source": [
    "#k-means\n",
    "scores_test = []\n",
    "scores_train = []\n",
    "\n",
    "for k in range(1, 15):\n",
    "    model = Pipeline([\n",
    "        ('scaler', StandardScaler()),\n",
    "        ('knn', KNeighborsClassifier(n_neighbors=k))\n",
    "    ])\n",
    "    model.fit(X_train, Y_train, )\n",
    "    \n",
    "    y_hat_test = model.predict_proba(X_test)\n",
    "    scores_test.append(roc_auc_score(Y_test, y_hat_test[:, 1]))\n",
    "    \n",
    "    y_hat_train = model.predict_proba(X_train)\n",
    "    scores_train.append(roc_auc_score(Y_train, y_hat_train[:, 1]))"
   ]
  },
  {
   "cell_type": "code",
   "execution_count": 78,
   "metadata": {
    "collapsed": false
   },
   "outputs": [
    {
     "data": {
      "image/png": "[encoded data removed]",
      "text/plain": [
       "<matplotlib.figure.Figure at 0x6f71ba8>"
      ]
     },
     "metadata": {},
     "output_type": "display_data"
    }
   ],
   "source": [
    "plt.plot(scores_test, label='test')\n",
    "plt.plot(scores_train, label='train')\n",
    "plt.legend()\n",
    "plt.show()"
   ]
  },
  {
   "cell_type": "code",
   "execution_count": null,
   "metadata": {
    "collapsed": true
   },
   "outputs": [],
   "source": []
  },
  {
   "cell_type": "code",
   "execution_count": null,
   "metadata": {
    "collapsed": true
   },
   "outputs": [],
   "source": []
  },
  {
   "cell_type": "code",
   "execution_count": null,
   "metadata": {
    "collapsed": true
   },
   "outputs": [],
   "source": []
  },
  {
   "cell_type": "code",
   "execution_count": null,
   "metadata": {
    "collapsed": true
   },
   "outputs": [],
   "source": []
  },
  {
   "cell_type": "code",
   "execution_count": 85,
   "metadata": {
    "collapsed": true
   },
   "outputs": [],
   "source": [
    "# initialize data\n",
    "X_train, X_test, Y_train, Y_test = train_test_split(X, Y, test_size=0.33, random_state=42)\n",
    "train_data = X_train\n",
    "train_label = Y_train\n",
    "test_data = X_test"
   ]
  },
  {
   "cell_type": "code",
   "execution_count": 80,
   "metadata": {
    "collapsed": true
   },
   "outputs": [],
   "source": [
    "from catboost import CatBoostRegressor, CatBoostClassifier\n",
    "from catboost import Pool, CatBoost"
   ]
  },
  {
   "cell_type": "code",
   "execution_count": 98,
   "metadata": {
    "collapsed": false
   },
   "outputs": [
    {
     "name": "stdout",
     "output_type": "stream",
     "text": [
      "0:\tlearn: 0.2240793\ttotal: 47ms\tremaining: 47ms\n",
      "1:\tlearn: 0.1998815\ttotal: 93.3ms\tremaining: 0us\n",
      "0:\tlearn: 0.2249741\ttotal: 44.4ms\tremaining: 44.4ms\n",
      "1:\tlearn: 0.2020201\ttotal: 97.2ms\tremaining: 0us\n",
      "0:\tlearn: 0.2121791\ttotal: 69.1ms\tremaining: 69.1ms\n",
      "1:\tlearn: 0.2018749\ttotal: 115ms\tremaining: 0us\n",
      "0:\tlearn: 0.2105873\ttotal: 84ms\tremaining: 84ms\n",
      "1:\tlearn: 0.1920365\ttotal: 168ms\tremaining: 0us\n",
      "0:\tlearn: 0.2049925\ttotal: 107ms\tremaining: 107ms\n",
      "1:\tlearn: 0.1926866\ttotal: 170ms\tremaining: 0us\n",
      "0:\tlearn: 0.2011023\ttotal: 202ms\tremaining: 202ms\n",
      "1:\tlearn: 0.1917244\ttotal: 242ms\tremaining: 0us\n",
      "0:\tlearn: 0.2250807\ttotal: 77ms\tremaining: 77ms\n",
      "1:\tlearn: 0.1885799\ttotal: 301ms\tremaining: 0us\n",
      "0:\tlearn: 0.2183760\ttotal: 72ms\tremaining: 72ms\n",
      "1:\tlearn: 0.1953744\ttotal: 156ms\tremaining: 0us\n",
      "0:\tlearn: 0.2260123\ttotal: 62.1ms\tremaining: 62.1ms\n",
      "1:\tlearn: 0.1929161\ttotal: 173ms\tremaining: 0us\n",
      "0:\tlearn: 0.2170630\ttotal: 104ms\tremaining: 104ms\n",
      "1:\tlearn: 0.1887291\ttotal: 3.51s\tremaining: 0us\n"
     ]
    }
   ],
   "source": [
    "#Cat boost\n",
    "train_pool = Pool(train_data, train_label, cat_features=[1,2,3,4,5,6,7,8,9,14])\n",
    "test_pool = Pool(test_data, cat_features=[1,2,3,4,5,6,7,8,9,14]) \n",
    "scores_cat_test = []\n",
    "scores_cat_train = []\n",
    "\n",
    "for k in range(5, 15):\n",
    "    model = Pipeline([\n",
    "        ('catboost', CatBoostClassifier(iterations=2, depth=k, learning_rate=1, loss_function='Logloss', logging_level='Verbose'))\n",
    "    ])\n",
    "    model.fit(train_pool)\n",
    "    \n",
    "    y_hat_test = model.predict_proba(X_test)\n",
    "    scores_cat_test.append(roc_auc_score(Y_test, y_hat_test[:, 1]))\n",
    "    \n",
    "    y_hat_train = model.predict_proba(X_train)\n",
    "    scores_cat_train.append(roc_auc_score(Y_train, y_hat_train[:, 1]))"
   ]
  },
  {
   "cell_type": "code",
   "execution_count": 99,
   "metadata": {
    "collapsed": false
   },
   "outputs": [
    {
     "data": {
      "text/plain": [
       "[0.92020739411610786,\n",
       " 0.91862225711188383,\n",
       " 0.92363313520989876,\n",
       " 0.92723217823632753,\n",
       " 0.92692437665881655,\n",
       " 0.92690538671451528,\n",
       " 0.92853283989383573,\n",
       " 0.92424746738439689,\n",
       " 0.92850099061717328,\n",
       " 0.93060266905910061]"
      ]
     },
     "execution_count": 99,
     "metadata": {},
     "output_type": "execute_result"
    }
   ],
   "source": [
    "scores_cat_test"
   ]
  },
  {
   "cell_type": "code",
   "execution_count": 100,
   "metadata": {
    "collapsed": false
   },
   "outputs": [
    {
     "data": {
      "text/plain": [
       "[0.92386626898749324,\n",
       " 0.92119275245421683,\n",
       " 0.92226359536131919,\n",
       " 0.93216044534609743,\n",
       " 0.92951190862978672,\n",
       " 0.93155853591593329,\n",
       " 0.93401538405874696,\n",
       " 0.93040716187981265,\n",
       " 0.93207812341820384,\n",
       " 0.93612112598123898]"
      ]
     },
     "execution_count": 100,
     "metadata": {},
     "output_type": "execute_result"
    }
   ],
   "source": [
    "scores_cat_train"
   ]
  },
  {
   "cell_type": "code",
   "execution_count": 101,
   "metadata": {
    "collapsed": false
   },
   "outputs": [
    {
     "data": {
      "image/png": "[encoded data removed]",
      "text/plain": [
       "<matplotlib.figure.Figure at 0x131e2cc0>"
      ]
     },
     "metadata": {},
     "output_type": "display_data"
    }
   ],
   "source": [
    "plt.plot(scores_cat_test, label='test')\n",
    "plt.plot(scores_cat_train, label='train')\n",
    "plt.legend()\n",
    "plt.show()"
   ]
  },
  {
   "cell_type": "code",
   "execution_count": 106,
   "metadata": {
    "collapsed": false
   },
   "outputs": [
    {
     "name": "stdout",
     "output_type": "stream",
     "text": [
      "0:\tlearn: 0.2061137\ttotal: 252ms\tremaining: 0us\n",
      "0:\tlearn: 0.2092331\ttotal: 145ms\tremaining: 145ms\n",
      "1:\tlearn: 0.1845358\ttotal: 444ms\tremaining: 0us\n",
      "0:\tlearn: 0.2077046\ttotal: 5.83s\tremaining: 11.7s\n",
      "1:\tlearn: 0.1902779\ttotal: 5.99s\tremaining: 2.99s\n",
      "2:\tlearn: 0.1686612\ttotal: 12.9s\tremaining: 0us\n",
      "0:\tlearn: 0.2072280\ttotal: 5.54s\tremaining: 16.6s\n",
      "1:\tlearn: 0.1783638\ttotal: 6.1s\tremaining: 6.1s\n",
      "2:\tlearn: 0.1749259\ttotal: 6.43s\tremaining: 2.14s\n",
      "3:\tlearn: 0.1731717\ttotal: 6.49s\tremaining: 0us\n"
     ]
    }
   ],
   "source": [
    "#Cat boost\n",
    "train_pool = Pool(train_data, train_label, cat_features=[1,2,3,4,5,6,7,8,9,14])\n",
    "test_pool = Pool(test_data, cat_features=[1,2,3,4,5,6,7,8,9,14]) \n",
    "scores_cat_test = []\n",
    "scores_cat_train = []\n",
    "\n",
    "for k in range(1, 5):\n",
    "    model = Pipeline([\n",
    "        ('catboost', CatBoostClassifier(iterations=k, depth=15, learning_rate=1, loss_function='Logloss', logging_level='Verbose'))\n",
    "    ])\n",
    "    model.fit(train_pool)\n",
    "    \n",
    "    y_hat_test = model.predict_proba(X_test)\n",
    "    scores_cat_test.append(roc_auc_score(Y_test, y_hat_test[:, 1]))\n",
    "    \n",
    "    y_hat_train = model.predict_proba(X_train)\n",
    "    scores_cat_train.append(roc_auc_score(Y_train, y_hat_train[:, 1]))"
   ]
  },
  {
   "cell_type": "code",
   "execution_count": 108,
   "metadata": {
    "collapsed": false
   },
   "outputs": [
    {
     "name": "stdout",
     "output_type": "stream",
     "text": [
      "0:\tlearn: 0.2081895\ttotal: 158ms\tremaining: 631ms\n",
      "1:\tlearn: 0.1913172\ttotal: 263ms\tremaining: 394ms\n",
      "2:\tlearn: 0.1838183\ttotal: 608ms\tremaining: 405ms\n",
      "3:\tlearn: 0.1742678\ttotal: 1.01s\tremaining: 253ms\n",
      "4:\tlearn: 0.1728915\ttotal: 1.05s\tremaining: 0us\n",
      "0.947525499697\n"
     ]
    }
   ],
   "source": [
    "model = Pipeline([\n",
    "    ('catboost', CatBoostClassifier(iterations=5, depth=15, learning_rate=1, loss_function='Logloss', logging_level='Verbose'))\n",
    "])\n",
    "model.fit(train_pool)\n",
    "    \n",
    "y_hat_test = model.predict_proba(X_test)\n",
    "scores_cat_test.append(roc_auc_score(Y_test, y_hat_test[:, 1]))\n",
    "    \n",
    "y_hat_train = model.predict_proba(X_train)\n",
    "print(roc_auc_score(Y_train, y_hat_train[:, 1]))"
   ]
  },
  {
   "cell_type": "code",
   "execution_count": 113,
   "metadata": {
    "collapsed": false
   },
   "outputs": [],
   "source": [
    "to_export_3 = model.predict_proba(data_test)"
   ]
  },
  {
   "cell_type": "code",
   "execution_count": 114,
   "metadata": {
    "collapsed": true
   },
   "outputs": [],
   "source": [
    "np.savetxt(r'Olapin_test3.csv',to_export_3,delimiter=',', fmt=('%f'))"
   ]
  },
  {
   "cell_type": "code",
   "execution_count": null,
   "metadata": {
    "collapsed": true
   },
   "outputs": [],
   "source": []
  },
  {
   "cell_type": "code",
   "execution_count": null,
   "metadata": {
    "collapsed": false
   },
   "outputs": [],
   "source": [
    "#Cat boost\n",
    "# initialize Pool\n",
    "train_pool = Pool(train_data, train_label, cat_features=[1,2,3,4,5,6,7,8,9,14])\n",
    "test_pool = Pool(test_data, cat_features=[1,2,3,4,5,6,7,8,9,14]) \n",
    "\n",
    "# specify the training parameters \n",
    "catreg = CatBoostRegressor(iterations=2, depth=10, learning_rate=5, loss_function='RMSE')\n",
    "catboost = CatBoostClassifier(iterations=2, depth=10, learning_rate=5, loss_function='Logloss', logging_level='Verbose')\n",
    "#train the model\n",
    "catreg.fit(train_pool)\n",
    "catboost.fit(train_pool)\n",
    "# make the prediction using the resulting model\n",
    "preds = catreg.predict(test_pool)\n",
    "print(preds)\n",
    "\n",
    "# make the prediction using the resulting model\n",
    "preds_class = catboost.predict(test_data)\n",
    "preds_proba = catboost.predict_proba(test_data)\n",
    "print(\"class = \", preds_class)\n",
    "print(\"proba = \", preds_proba)\n",
    "\n",
    "catreg.score(X_test, Y_test)\n",
    "catboost.score(X_test, Y_test)"
   ]
  },
  {
   "cell_type": "code",
   "execution_count": null,
   "metadata": {
    "collapsed": false
   },
   "outputs": [],
   "source": [
    "catboost.predict(data_test, \n",
    "        prediction_type='Class', \n",
    "        ntree_start=0, \n",
    "        ntree_end=0, \n",
    "        thread_count=-1,\n",
    "        verbose=None)"
   ]
  },
  {
   "cell_type": "code",
   "execution_count": null,
   "metadata": {
    "collapsed": false
   },
   "outputs": [],
   "source": [
    "to_export = catboost.predict(data_test, \n",
    "        prediction_type='Class', \n",
    "        ntree_start=0, \n",
    "        ntree_end=0, \n",
    "        thread_count=-1,\n",
    "        verbose=None)"
   ]
  },
  {
   "cell_type": "code",
   "execution_count": null,
   "metadata": {
    "collapsed": false
   },
   "outputs": [],
   "source": [
    "np.savetxt(r'Olapin_test.csv',to_export,delimiter=',', fmt=('%s'))"
   ]
  },
  {
   "cell_type": "code",
   "execution_count": null,
   "metadata": {
    "collapsed": false
   },
   "outputs": [],
   "source": [
    "to_export_2 = catboost.predict_proba(data_test, \n",
    "        ntree_start=0, \n",
    "        ntree_end=0, \n",
    "        thread_count=-1,\n",
    "        verbose=None)"
   ]
  },
  {
   "cell_type": "code",
   "execution_count": null,
   "metadata": {
    "collapsed": true
   },
   "outputs": [],
   "source": [
    "np.savetxt(r'Olapin_test2.csv',to_export,delimiter=',', fmt=('%f'))"
   ]
  },
  {
   "cell_type": "code",
   "execution_count": null,
   "metadata": {
    "collapsed": false
   },
   "outputs": [],
   "source": [
    "data_test.iloc[0:100;'duratioin']"
   ]
  },
  {
   "cell_type": "code",
   "execution_count": null,
   "metadata": {
    "collapsed": false
   },
   "outputs": [],
   "source": [
    "data.iloc[:5,10:]"
   ]
  },
  {
   "cell_type": "code",
   "execution_count": null,
   "metadata": {
    "collapsed": false
   },
   "outputs": [],
   "source": [
    "data_test.iloc[:5,10:]"
   ]
  },
  {
   "cell_type": "code",
   "execution_count": null,
   "metadata": {
    "collapsed": true
   },
   "outputs": [],
   "source": []
  }
 ],
 "metadata": {
  "anaconda-cloud": {},
  "kernelspec": {
   "display_name": "Python [py3k]",
   "language": "python",
   "name": "Python [py3k]"
  },
  "language_info": {
   "codemirror_mode": {
    "name": "ipython",
    "version": 3
   },
   "file_extension": ".py",
   "mimetype": "text/x-python",
   "name": "python",
   "nbconvert_exporter": "python",
   "pygments_lexer": "ipython3",
   "version": "3.4.5"
  }
 },
 "nbformat": 4,
 "nbformat_minor": 0
}
