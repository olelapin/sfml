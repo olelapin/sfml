{
 "cells": [
  {
   "cell_type": "code",
   "execution_count": 1,
   "metadata": {
    "collapsed": true
   },
   "outputs": [],
   "source": [
    "import pandas as pd\n",
    "import numpy as np\n",
    "from sklearn import linear_model\n",
    "from sklearn import model_selection\n",
    "from sklearn import metrics\n",
    "from sklearn import preprocessing\n",
    "from sklearn.feature_selection import RFE\n",
    "from sklearn.model_selection import train_test_split\n",
    "from sklearn.linear_model import LogisticRegression\n",
    "from sklearn.neighbors import KNeighborsClassifier\n",
    "import matplotlib.pyplot as plt \n",
    "import seaborn as sns"
   ]
  },
  {
   "cell_type": "code",
   "execution_count": 2,
   "metadata": {
    "collapsed": true
   },
   "outputs": [],
   "source": [
    "from sklearn.preprocessing import OneHotEncoder, PolynomialFeatures\n",
    "from sklearn.pipeline import Pipeline\n",
    "from sklearn.preprocessing import StandardScaler\n",
    "from sklearn.metrics import roc_auc_score"
   ]
  },
  {
   "cell_type": "code",
   "execution_count": 3,
   "metadata": {
    "collapsed": true
   },
   "outputs": [],
   "source": [
    "plt.rc(\"font\", size=14)\n",
    "sns.set(style=\"white\")\n",
    "sns.set(style=\"whitegrid\", color_codes=True)"
   ]
  },
  {
   "cell_type": "code",
   "execution_count": 4,
   "metadata": {
    "collapsed": false
   },
   "outputs": [
    {
     "name": "stdout",
     "output_type": "stream",
     "text": [
      "(24712, 22)\n"
     ]
    },
    {
     "data": {
      "text/html": [
       "<div>\n",
       "<table border=\"1\" class=\"dataframe\">\n",
       "  <thead>\n",
       "    <tr style=\"text-align: right;\">\n",
       "      <th></th>\n",
       "      <th>count</th>\n",
       "      <th>unique</th>\n",
       "      <th>top</th>\n",
       "      <th>freq</th>\n",
       "      <th>mean</th>\n",
       "      <th>std</th>\n",
       "      <th>min</th>\n",
       "      <th>25%</th>\n",
       "      <th>50%</th>\n",
       "      <th>75%</th>\n",
       "      <th>max</th>\n",
       "    </tr>\n",
       "  </thead>\n",
       "  <tbody>\n",
       "    <tr>\n",
       "      <th>age</th>\n",
       "      <td>24712</td>\n",
       "      <td>NaN</td>\n",
       "      <td>NaN</td>\n",
       "      <td>NaN</td>\n",
       "      <td>40.0302</td>\n",
       "      <td>10.4623</td>\n",
       "      <td>17</td>\n",
       "      <td>32</td>\n",
       "      <td>38</td>\n",
       "      <td>47</td>\n",
       "      <td>98</td>\n",
       "    </tr>\n",
       "    <tr>\n",
       "      <th>job</th>\n",
       "      <td>24712</td>\n",
       "      <td>12</td>\n",
       "      <td>admin.</td>\n",
       "      <td>6254</td>\n",
       "      <td>NaN</td>\n",
       "      <td>NaN</td>\n",
       "      <td>NaN</td>\n",
       "      <td>NaN</td>\n",
       "      <td>NaN</td>\n",
       "      <td>NaN</td>\n",
       "      <td>NaN</td>\n",
       "    </tr>\n",
       "    <tr>\n",
       "      <th>marital</th>\n",
       "      <td>24712</td>\n",
       "      <td>4</td>\n",
       "      <td>married</td>\n",
       "      <td>14871</td>\n",
       "      <td>NaN</td>\n",
       "      <td>NaN</td>\n",
       "      <td>NaN</td>\n",
       "      <td>NaN</td>\n",
       "      <td>NaN</td>\n",
       "      <td>NaN</td>\n",
       "      <td>NaN</td>\n",
       "    </tr>\n",
       "    <tr>\n",
       "      <th>education</th>\n",
       "      <td>24712</td>\n",
       "      <td>8</td>\n",
       "      <td>university.degree</td>\n",
       "      <td>7309</td>\n",
       "      <td>NaN</td>\n",
       "      <td>NaN</td>\n",
       "      <td>NaN</td>\n",
       "      <td>NaN</td>\n",
       "      <td>NaN</td>\n",
       "      <td>NaN</td>\n",
       "      <td>NaN</td>\n",
       "    </tr>\n",
       "    <tr>\n",
       "      <th>default</th>\n",
       "      <td>24712</td>\n",
       "      <td>3</td>\n",
       "      <td>no</td>\n",
       "      <td>19567</td>\n",
       "      <td>NaN</td>\n",
       "      <td>NaN</td>\n",
       "      <td>NaN</td>\n",
       "      <td>NaN</td>\n",
       "      <td>NaN</td>\n",
       "      <td>NaN</td>\n",
       "      <td>NaN</td>\n",
       "    </tr>\n",
       "    <tr>\n",
       "      <th>housing</th>\n",
       "      <td>24712</td>\n",
       "      <td>3</td>\n",
       "      <td>yes</td>\n",
       "      <td>12934</td>\n",
       "      <td>NaN</td>\n",
       "      <td>NaN</td>\n",
       "      <td>NaN</td>\n",
       "      <td>NaN</td>\n",
       "      <td>NaN</td>\n",
       "      <td>NaN</td>\n",
       "      <td>NaN</td>\n",
       "    </tr>\n",
       "    <tr>\n",
       "      <th>loan</th>\n",
       "      <td>24712</td>\n",
       "      <td>3</td>\n",
       "      <td>no</td>\n",
       "      <td>20334</td>\n",
       "      <td>NaN</td>\n",
       "      <td>NaN</td>\n",
       "      <td>NaN</td>\n",
       "      <td>NaN</td>\n",
       "      <td>NaN</td>\n",
       "      <td>NaN</td>\n",
       "      <td>NaN</td>\n",
       "    </tr>\n",
       "    <tr>\n",
       "      <th>contact</th>\n",
       "      <td>24712</td>\n",
       "      <td>2</td>\n",
       "      <td>cellular</td>\n",
       "      <td>15729</td>\n",
       "      <td>NaN</td>\n",
       "      <td>NaN</td>\n",
       "      <td>NaN</td>\n",
       "      <td>NaN</td>\n",
       "      <td>NaN</td>\n",
       "      <td>NaN</td>\n",
       "      <td>NaN</td>\n",
       "    </tr>\n",
       "    <tr>\n",
       "      <th>month</th>\n",
       "      <td>24712</td>\n",
       "      <td>10</td>\n",
       "      <td>may</td>\n",
       "      <td>8199</td>\n",
       "      <td>NaN</td>\n",
       "      <td>NaN</td>\n",
       "      <td>NaN</td>\n",
       "      <td>NaN</td>\n",
       "      <td>NaN</td>\n",
       "      <td>NaN</td>\n",
       "      <td>NaN</td>\n",
       "    </tr>\n",
       "    <tr>\n",
       "      <th>day_of_week</th>\n",
       "      <td>24712</td>\n",
       "      <td>5</td>\n",
       "      <td>thu</td>\n",
       "      <td>5144</td>\n",
       "      <td>NaN</td>\n",
       "      <td>NaN</td>\n",
       "      <td>NaN</td>\n",
       "      <td>NaN</td>\n",
       "      <td>NaN</td>\n",
       "      <td>NaN</td>\n",
       "      <td>NaN</td>\n",
       "    </tr>\n",
       "    <tr>\n",
       "      <th>duration</th>\n",
       "      <td>24712</td>\n",
       "      <td>NaN</td>\n",
       "      <td>NaN</td>\n",
       "      <td>NaN</td>\n",
       "      <td>258.345</td>\n",
       "      <td>261.573</td>\n",
       "      <td>0</td>\n",
       "      <td>102</td>\n",
       "      <td>180</td>\n",
       "      <td>319</td>\n",
       "      <td>4918</td>\n",
       "    </tr>\n",
       "    <tr>\n",
       "      <th>campaign</th>\n",
       "      <td>24712</td>\n",
       "      <td>NaN</td>\n",
       "      <td>NaN</td>\n",
       "      <td>NaN</td>\n",
       "      <td>2.58016</td>\n",
       "      <td>2.77676</td>\n",
       "      <td>1</td>\n",
       "      <td>1</td>\n",
       "      <td>2</td>\n",
       "      <td>3</td>\n",
       "      <td>43</td>\n",
       "    </tr>\n",
       "    <tr>\n",
       "      <th>pdays</th>\n",
       "      <td>24712</td>\n",
       "      <td>NaN</td>\n",
       "      <td>NaN</td>\n",
       "      <td>NaN</td>\n",
       "      <td>963.559</td>\n",
       "      <td>184.225</td>\n",
       "      <td>0</td>\n",
       "      <td>999</td>\n",
       "      <td>999</td>\n",
       "      <td>999</td>\n",
       "      <td>999</td>\n",
       "    </tr>\n",
       "    <tr>\n",
       "      <th>previous</th>\n",
       "      <td>24712</td>\n",
       "      <td>NaN</td>\n",
       "      <td>NaN</td>\n",
       "      <td>NaN</td>\n",
       "      <td>0.1719</td>\n",
       "      <td>0.491511</td>\n",
       "      <td>0</td>\n",
       "      <td>0</td>\n",
       "      <td>0</td>\n",
       "      <td>0</td>\n",
       "      <td>6</td>\n",
       "    </tr>\n",
       "    <tr>\n",
       "      <th>poutcome</th>\n",
       "      <td>24712</td>\n",
       "      <td>3</td>\n",
       "      <td>nonexistent</td>\n",
       "      <td>21346</td>\n",
       "      <td>NaN</td>\n",
       "      <td>NaN</td>\n",
       "      <td>NaN</td>\n",
       "      <td>NaN</td>\n",
       "      <td>NaN</td>\n",
       "      <td>NaN</td>\n",
       "      <td>NaN</td>\n",
       "    </tr>\n",
       "    <tr>\n",
       "      <th>emp.var.rate</th>\n",
       "      <td>24712</td>\n",
       "      <td>NaN</td>\n",
       "      <td>NaN</td>\n",
       "      <td>NaN</td>\n",
       "      <td>0.0827129</td>\n",
       "      <td>1.5723</td>\n",
       "      <td>-3.4</td>\n",
       "      <td>-1.8</td>\n",
       "      <td>1.1</td>\n",
       "      <td>1.4</td>\n",
       "      <td>1.4</td>\n",
       "    </tr>\n",
       "    <tr>\n",
       "      <th>cons.price.idx</th>\n",
       "      <td>24712</td>\n",
       "      <td>NaN</td>\n",
       "      <td>NaN</td>\n",
       "      <td>NaN</td>\n",
       "      <td>93.5764</td>\n",
       "      <td>0.579548</td>\n",
       "      <td>92.201</td>\n",
       "      <td>93.075</td>\n",
       "      <td>93.749</td>\n",
       "      <td>93.994</td>\n",
       "      <td>94.767</td>\n",
       "    </tr>\n",
       "    <tr>\n",
       "      <th>cons.conf.idx</th>\n",
       "      <td>24712</td>\n",
       "      <td>NaN</td>\n",
       "      <td>NaN</td>\n",
       "      <td>NaN</td>\n",
       "      <td>-40.5161</td>\n",
       "      <td>4.63936</td>\n",
       "      <td>-50.8</td>\n",
       "      <td>-42.7</td>\n",
       "      <td>-41.8</td>\n",
       "      <td>-36.4</td>\n",
       "      <td>-26.9</td>\n",
       "    </tr>\n",
       "    <tr>\n",
       "      <th>euribor3m</th>\n",
       "      <td>24712</td>\n",
       "      <td>NaN</td>\n",
       "      <td>NaN</td>\n",
       "      <td>NaN</td>\n",
       "      <td>3.6194</td>\n",
       "      <td>1.7371</td>\n",
       "      <td>0.634</td>\n",
       "      <td>1.344</td>\n",
       "      <td>4.857</td>\n",
       "      <td>4.961</td>\n",
       "      <td>5.045</td>\n",
       "    </tr>\n",
       "    <tr>\n",
       "      <th>nr.employed</th>\n",
       "      <td>24712</td>\n",
       "      <td>NaN</td>\n",
       "      <td>NaN</td>\n",
       "      <td>NaN</td>\n",
       "      <td>5166.99</td>\n",
       "      <td>72.5162</td>\n",
       "      <td>4963.6</td>\n",
       "      <td>5099.1</td>\n",
       "      <td>5191</td>\n",
       "      <td>5228.1</td>\n",
       "      <td>5228.1</td>\n",
       "    </tr>\n",
       "    <tr>\n",
       "      <th>target</th>\n",
       "      <td>24712</td>\n",
       "      <td>NaN</td>\n",
       "      <td>NaN</td>\n",
       "      <td>NaN</td>\n",
       "      <td>0.112779</td>\n",
       "      <td>0.316329</td>\n",
       "      <td>0</td>\n",
       "      <td>0</td>\n",
       "      <td>0</td>\n",
       "      <td>0</td>\n",
       "      <td>1</td>\n",
       "    </tr>\n",
       "  </tbody>\n",
       "</table>\n",
       "</div>"
      ],
      "text/plain": [
       "                count unique                top   freq       mean       std  \\\n",
       "age             24712    NaN                NaN    NaN    40.0302   10.4623   \n",
       "job             24712     12             admin.   6254        NaN       NaN   \n",
       "marital         24712      4            married  14871        NaN       NaN   \n",
       "education       24712      8  university.degree   7309        NaN       NaN   \n",
       "default         24712      3                 no  19567        NaN       NaN   \n",
       "housing         24712      3                yes  12934        NaN       NaN   \n",
       "loan            24712      3                 no  20334        NaN       NaN   \n",
       "contact         24712      2           cellular  15729        NaN       NaN   \n",
       "month           24712     10                may   8199        NaN       NaN   \n",
       "day_of_week     24712      5                thu   5144        NaN       NaN   \n",
       "duration        24712    NaN                NaN    NaN    258.345   261.573   \n",
       "campaign        24712    NaN                NaN    NaN    2.58016   2.77676   \n",
       "pdays           24712    NaN                NaN    NaN    963.559   184.225   \n",
       "previous        24712    NaN                NaN    NaN     0.1719  0.491511   \n",
       "poutcome        24712      3        nonexistent  21346        NaN       NaN   \n",
       "emp.var.rate    24712    NaN                NaN    NaN  0.0827129    1.5723   \n",
       "cons.price.idx  24712    NaN                NaN    NaN    93.5764  0.579548   \n",
       "cons.conf.idx   24712    NaN                NaN    NaN   -40.5161   4.63936   \n",
       "euribor3m       24712    NaN                NaN    NaN     3.6194    1.7371   \n",
       "nr.employed     24712    NaN                NaN    NaN    5166.99   72.5162   \n",
       "target          24712    NaN                NaN    NaN   0.112779  0.316329   \n",
       "\n",
       "                   min     25%     50%     75%     max  \n",
       "age                 17      32      38      47      98  \n",
       "job                NaN     NaN     NaN     NaN     NaN  \n",
       "marital            NaN     NaN     NaN     NaN     NaN  \n",
       "education          NaN     NaN     NaN     NaN     NaN  \n",
       "default            NaN     NaN     NaN     NaN     NaN  \n",
       "housing            NaN     NaN     NaN     NaN     NaN  \n",
       "loan               NaN     NaN     NaN     NaN     NaN  \n",
       "contact            NaN     NaN     NaN     NaN     NaN  \n",
       "month              NaN     NaN     NaN     NaN     NaN  \n",
       "day_of_week        NaN     NaN     NaN     NaN     NaN  \n",
       "duration             0     102     180     319    4918  \n",
       "campaign             1       1       2       3      43  \n",
       "pdays                0     999     999     999     999  \n",
       "previous             0       0       0       0       6  \n",
       "poutcome           NaN     NaN     NaN     NaN     NaN  \n",
       "emp.var.rate      -3.4    -1.8     1.1     1.4     1.4  \n",
       "cons.price.idx  92.201  93.075  93.749  93.994  94.767  \n",
       "cons.conf.idx    -50.8   -42.7   -41.8   -36.4   -26.9  \n",
       "euribor3m        0.634   1.344   4.857   4.961   5.045  \n",
       "nr.employed     4963.6  5099.1    5191  5228.1  5228.1  \n",
       "target               0       0       0       0       1  "
      ]
     },
     "execution_count": 4,
     "metadata": {},
     "output_type": "execute_result"
    }
   ],
   "source": [
    "data = pd.read_csv('train.csv', header=0, sep='\\t', encoding=\"utf8\") #, delimiter=';'\n",
    "data_test = pd.read_csv('test.csv', header=0, sep='\\t', encoding=\"utf8\") #, delimiter=';'\n",
    "#data = data.dropna() #(24712, 22) 16476\n",
    "print(data.shape)\n",
    "#print(list(data.columns))\n",
    "target = 'target'\n",
    "data = data.drop(['_id'], axis=1)\n",
    "data_test = data_test.drop(['_id'], axis=1)\n",
    "#data.info()\n",
    "data.describe(include='all').T\n",
    "#data.isnull().sum()\n",
    "#data.head()"
   ]
  },
  {
   "cell_type": "code",
   "execution_count": 5,
   "metadata": {
    "collapsed": false
   },
   "outputs": [],
   "source": [
    "X_col=[i for i in data.columns if i not in \"target\"]\n",
    "X = data[X_col]\n",
    "Y = data.target\n",
    "num_features = ['age', 'duration','campaign', 'pdays','previous','emp.var.rate','cons.price.idx','cons.conf.idx','euribor3m','nr.employed']  \n",
    "cat_features = ['job','marital','education','default','housing','loan','contact','month','day_of_week','poutcome']\n",
    "#[1,2,3,4,5,6,7,8,9,14]"
   ]
  },
  {
   "cell_type": "markdown",
   "metadata": {},
   "source": [
    "# log reg 0.934"
   ]
  },
  {
   "cell_type": "code",
   "execution_count": 6,
   "metadata": {
    "collapsed": true
   },
   "outputs": [],
   "source": [
    "X_with_dummies = pd.get_dummies( X, columns = cat_features )\n",
    "X_train, X_test, Y_train, Y_test = train_test_split(X_with_dummies, Y, test_size=0.33, random_state=42)"
   ]
  },
  {
   "cell_type": "code",
   "execution_count": 7,
   "metadata": {
    "collapsed": true
   },
   "outputs": [],
   "source": [
    "#logreg\n",
    "scores_test = []\n",
    "scores_train = []\n",
    "\n",
    "for k in np.logspace(-3.0, 3.0, num=7, base=2.0):\n",
    "    model = Pipeline([\n",
    "        ('scaler', StandardScaler()),\n",
    "        ('lin_reg', LogisticRegression(C=k))\n",
    "    ])\n",
    "    model.fit(X_train, Y_train, )\n",
    "    \n",
    "    y_hat_test = model.predict_proba(X_test)\n",
    "    scores_test.append(roc_auc_score(Y_test, y_hat_test[:, 1]))\n",
    "    \n",
    "    y_hat_train = model.predict_proba(X_train)\n",
    "    scores_train.append(roc_auc_score(Y_train, y_hat_train[:, 1]))"
   ]
  },
  {
   "cell_type": "code",
   "execution_count": 8,
   "metadata": {
    "collapsed": false
   },
   "outputs": [
    {
     "data": {
      "image/png": "[encoded data removed]",
      "text/plain": [
       "<matplotlib.figure.Figure at 0x11081be0>"
      ]
     },
     "metadata": {},
     "output_type": "display_data"
    }
   ],
   "source": [
    "plt.plot(scores_test, label='test')\n",
    "plt.plot(scores_train, label='train')\n",
    "plt.legend()\n",
    "plt.show()"
   ]
  },
  {
   "cell_type": "code",
   "execution_count": 9,
   "metadata": {
    "collapsed": false
   },
   "outputs": [
    {
     "data": {
      "text/plain": [
       "0.93380284849164519"
      ]
     },
     "execution_count": 9,
     "metadata": {},
     "output_type": "execute_result"
    }
   ],
   "source": [
    "scores_test[4]"
   ]
  },
  {
   "cell_type": "markdown",
   "metadata": {},
   "source": [
    "# K-means 0.85"
   ]
  },
  {
   "cell_type": "code",
   "execution_count": 73,
   "metadata": {
    "collapsed": true
   },
   "outputs": [],
   "source": [
    "X_with_dummies = pd.get_dummies( X, columns = cat_features )\n",
    "X_train, X_test, Y_train, Y_test = train_test_split(X_with_dummies, Y, test_size=0.33, random_state=42)"
   ]
  },
  {
   "cell_type": "code",
   "execution_count": 74,
   "metadata": {
    "collapsed": false
   },
   "outputs": [
    {
     "data": {
      "text/plain": [
       "KNeighborsClassifier(algorithm='auto', leaf_size=30, metric='euclidean',\n",
       "           metric_params=None, n_jobs=1, n_neighbors=5, p=2,\n",
       "           weights='uniform')"
      ]
     },
     "execution_count": 74,
     "metadata": {},
     "output_type": "execute_result"
    }
   ],
   "source": [
    "#k-means\n",
    "knn = KNeighborsClassifier(n_neighbors=5, weights='uniform', metric='euclidean')\n",
    "knn.fit(X_train, Y_train)\n",
    "y_hat = knn.predict(X_test)"
   ]
  },
  {
   "cell_type": "code",
   "execution_count": 76,
   "metadata": {
    "collapsed": true
   },
   "outputs": [],
   "source": [
    "#k-means\n",
    "scores_test = []\n",
    "scores_train = []\n",
    "\n",
    "for k in range(1, 15):\n",
    "    model = Pipeline([\n",
    "        ('scaler', StandardScaler()),\n",
    "        ('knn', KNeighborsClassifier(n_neighbors=k))\n",
    "    ])\n",
    "    model.fit(X_train, Y_train, )\n",
    "    \n",
    "    y_hat_test = model.predict_proba(X_test)\n",
    "    scores_test.append(roc_auc_score(Y_test, y_hat_test[:, 1]))\n",
    "    \n",
    "    y_hat_train = model.predict_proba(X_train)\n",
    "    scores_train.append(roc_auc_score(Y_train, y_hat_train[:, 1]))"
   ]
  },
  {
   "cell_type": "code",
   "execution_count": 78,
   "metadata": {
    "collapsed": false
   },
   "outputs": [
    {
     "data": {
      "image/png": "[encoded data removed]",
      "text/plain": [
       "<matplotlib.figure.Figure at 0x6f71ba8>"
      ]
     },
     "metadata": {},
     "output_type": "display_data"
    }
   ],
   "source": [
    "plt.plot(scores_test, label='test')\n",
    "plt.plot(scores_train, label='train')\n",
    "plt.legend()\n",
    "plt.show()"
   ]
  },
  {
   "cell_type": "markdown",
   "metadata": {},
   "source": [
    "# trees AUC 0.92"
   ]
  },
  {
   "cell_type": "code",
   "execution_count": 120,
   "metadata": {
    "collapsed": false
   },
   "outputs": [
    {
     "name": "stderr",
     "output_type": "stream",
     "text": [
      "C:\\Anaconda2\\envs\\py3k\\lib\\site-packages\\sklearn\\cross_validation.py:44: DeprecationWarning: This module was deprecated in version 0.18 in favor of the model_selection module into which all the refactored classes and functions are moved. Also note that the interface of the new CV iterators are different from that of this module. This module will be removed in 0.20.\n",
      "  \"This module will be removed in 0.20.\", DeprecationWarning)\n",
      "C:\\Anaconda2\\envs\\py3k\\lib\\site-packages\\sklearn\\learning_curve.py:23: DeprecationWarning: This module was deprecated in version 0.18 in favor of the model_selection module into which all the functions are moved. This module will be removed in 0.20\n",
      "  DeprecationWarning)\n"
     ]
    }
   ],
   "source": [
    "from sklearn.tree import DecisionTreeClassifier\n",
    "from sklearn.model_selection import StratifiedKFold\n",
    "from sklearn.learning_curve import validation_curve"
   ]
  },
  {
   "cell_type": "code",
   "execution_count": 124,
   "metadata": {
    "collapsed": true
   },
   "outputs": [],
   "source": [
    "X_with_dummies = pd.get_dummies( X, columns = cat_features )\n",
    "X_train, X_test, Y_train, Y_test = train_test_split(X_with_dummies, Y, test_size=0.33, random_state=42)"
   ]
  },
  {
   "cell_type": "code",
   "execution_count": 127,
   "metadata": {
    "collapsed": false
   },
   "outputs": [],
   "source": [
    "#cv = StratifiedKFold(n_splits=5, shuffle=True, random_state=132)\n",
    "#train_scores, valid_scores = validation_curve(model, X_train, Y_train, 'max_depth', range(1, 10), cv=cv, scoring='roc_auc')\n",
    "scores_test = []\n",
    "scores_train = []\n",
    "\n",
    "for k in range(1, 15):\n",
    "    model = Pipeline([\n",
    "        ('dt', DecisionTreeClassifier(max_depth=k,random_state=42))\n",
    "    ])\n",
    "    model.fit(X_train, Y_train, )\n",
    "    \n",
    "    y_hat_test = model.predict_proba(X_test)\n",
    "    scores_test.append(roc_auc_score(Y_test, y_hat_test[:, 1]))\n",
    "    \n",
    "    y_hat_train = model.predict_proba(X_train)\n",
    "    scores_train.append(roc_auc_score(Y_train, y_hat_train[:, 1]))"
   ]
  },
  {
   "cell_type": "code",
   "execution_count": 128,
   "metadata": {
    "collapsed": false
   },
   "outputs": [
    {
     "data": {
      "image/png": "[encoded data removed]",
      "text/plain": [
       "<matplotlib.figure.Figure at 0x194a38d0>"
      ]
     },
     "metadata": {},
     "output_type": "display_data"
    }
   ],
   "source": [
    "plt.plot(scores_test, label='test')\n",
    "plt.plot(scores_train, label='train')\n",
    "plt.legend()\n",
    "plt.show()"
   ]
  },
  {
   "cell_type": "code",
   "execution_count": 130,
   "metadata": {
    "collapsed": false
   },
   "outputs": [
    {
     "data": {
      "text/plain": [
       "0.92070195506710029"
      ]
     },
     "execution_count": 130,
     "metadata": {},
     "output_type": "execute_result"
    }
   ],
   "source": [
    "scores_test[4]"
   ]
  },
  {
   "cell_type": "markdown",
   "metadata": {},
   "source": [
    "# CatBoost 0.935"
   ]
  },
  {
   "cell_type": "code",
   "execution_count": 10,
   "metadata": {
    "collapsed": true
   },
   "outputs": [],
   "source": [
    "# initialize data\n",
    "X_train, X_test, Y_train, Y_test = train_test_split(X, Y, test_size=0.33, random_state=42)\n",
    "train_data = X_train\n",
    "train_label = Y_train\n",
    "test_data = X_test"
   ]
  },
  {
   "cell_type": "code",
   "execution_count": 11,
   "metadata": {
    "collapsed": true
   },
   "outputs": [],
   "source": [
    "from catboost import CatBoostRegressor, CatBoostClassifier\n",
    "from catboost import Pool, CatBoost"
   ]
  },
  {
   "cell_type": "code",
   "execution_count": 14,
   "metadata": {
    "collapsed": false
   },
   "outputs": [
    {
     "name": "stdout",
     "output_type": "stream",
     "text": [
      "0:\tlearn: 0.2119076\ttotal: 83.2ms\tremaining: 83.2ms\n",
      "1:\tlearn: 0.1884481\ttotal: 366ms\tremaining: 0us\n",
      "0:\tlearn: 0.2142455\ttotal: 1.19s\tremaining: 1.19s\n",
      "1:\tlearn: 0.1850754\ttotal: 8.54s\tremaining: 0us\n",
      "0:\tlearn: 0.2146922\ttotal: 268ms\tremaining: 268ms\n",
      "1:\tlearn: 0.1859766\ttotal: 2.27s\tremaining: 0us\n",
      "0:\tlearn: 0.2356190\ttotal: 156ms\tremaining: 156ms\n",
      "1:\tlearn: 0.2036700\ttotal: 740ms\tremaining: 0us\n",
      "0:\tlearn: 0.2220131\ttotal: 61.2ms\tremaining: 61.2ms\n",
      "\n",
      "Iteration with suspicious time 43.4 sec ignored in overall statistics.\n",
      "1:\tlearn: 0.1760621\ttotal: 61.2ms\tremaining: 61.2ms\n"
     ]
    }
   ],
   "source": [
    "#Cat boost\n",
    "train_pool = Pool(train_data, train_label, cat_features=[1,2,3,4,5,6,7,8,9,14])\n",
    "test_pool = Pool(test_data, cat_features=[1,2,3,4,5,6,7,8,9,14]) \n",
    "scores_cat_test = []\n",
    "scores_cat_train = []\n",
    "\n",
    "for k in range(12, 17):\n",
    "    model = Pipeline([\n",
    "        ('catboost', CatBoostClassifier(iterations=2, depth=k, learning_rate=1, loss_function='Logloss', logging_level='Verbose'))\n",
    "    ])\n",
    "    model.fit(train_pool)\n",
    "    \n",
    "    y_hat_test = model.predict_proba(X_test)\n",
    "    scores_cat_test.append(roc_auc_score(Y_test, y_hat_test[:, 1]))\n",
    "    \n",
    "    y_hat_train = model.predict_proba(X_train)\n",
    "    scores_cat_train.append(roc_auc_score(Y_train, y_hat_train[:, 1]))"
   ]
  },
  {
   "cell_type": "code",
   "execution_count": 15,
   "metadata": {
    "collapsed": false
   },
   "outputs": [
    {
     "data": {
      "text/plain": [
       "[0.92818511457515607,\n",
       " 0.93159956637135066,\n",
       " 0.92755119434787492,\n",
       " 0.91631497887929436,\n",
       " 0.93635445403910145]"
      ]
     },
     "execution_count": 15,
     "metadata": {},
     "output_type": "execute_result"
    }
   ],
   "source": [
    "scores_cat_test"
   ]
  },
  {
   "cell_type": "code",
   "execution_count": 16,
   "metadata": {
    "collapsed": false
   },
   "outputs": [
    {
     "data": {
      "text/plain": [
       "[0.93520343292489716,\n",
       " 0.93845985449210922,\n",
       " 0.93753560126437718,\n",
       " 0.91884090360056558,\n",
       " 0.94568945573967489]"
      ]
     },
     "execution_count": 16,
     "metadata": {},
     "output_type": "execute_result"
    }
   ],
   "source": [
    "scores_cat_train"
   ]
  },
  {
   "cell_type": "code",
   "execution_count": 17,
   "metadata": {
    "collapsed": false
   },
   "outputs": [
    {
     "data": {
      "image/png": "[encoded data removed]",
      "text/plain": [
       "<matplotlib.figure.Figure at 0x1305b860>"
      ]
     },
     "metadata": {},
     "output_type": "display_data"
    }
   ],
   "source": [
    "plt.plot(scores_cat_test, label='test')\n",
    "plt.plot(scores_cat_train, label='train')\n",
    "plt.legend()\n",
    "plt.show()"
   ]
  },
  {
   "cell_type": "code",
   "execution_count": 18,
   "metadata": {
    "collapsed": false
   },
   "outputs": [
    {
     "name": "stdout",
     "output_type": "stream",
     "text": [
      "0:\tlearn: 0.1974766\ttotal: 1m 7s\tremaining: 4m 28s\n",
      "1:\tlearn: 0.1797349\ttotal: 1m 7s\tremaining: 1m 41s\n",
      "2:\tlearn: 0.1721848\ttotal: 1m 12s\tremaining: 48.2s\n",
      "3:\tlearn: 0.1577531\ttotal: 2m 47s\tremaining: 41.9s\n",
      "4:\tlearn: 0.1575701\ttotal: 2m 47s\tremaining: 0us\n",
      "0:\tlearn: 0.2119001\ttotal: 3.78s\tremaining: 18.9s\n",
      "1:\tlearn: 0.1815032\ttotal: 8.9s\tremaining: 17.8s\n",
      "2:\tlearn: 0.1641670\ttotal: 54.6s\tremaining: 54.6s\n",
      "3:\tlearn: 0.1636383\ttotal: 54.8s\tremaining: 27.4s\n",
      "4:\tlearn: 0.1594936\ttotal: 57.3s\tremaining: 11.5s\n",
      "5:\tlearn: 0.1566584\ttotal: 1m 3s\tremaining: 0us\n",
      "0:\tlearn: 0.2373586\ttotal: 277ms\tremaining: 1.66s\n",
      "1:\tlearn: 0.1875767\ttotal: 942ms\tremaining: 2.35s\n",
      "2:\tlearn: 0.1747122\ttotal: 5.63s\tremaining: 7.51s\n",
      "3:\tlearn: 0.1744456\ttotal: 5.76s\tremaining: 4.32s\n",
      "4:\tlearn: 0.1711071\ttotal: 7.95s\tremaining: 3.18s\n",
      "5:\tlearn: 0.1669483\ttotal: 9.12s\tremaining: 1.52s\n",
      "6:\tlearn: 0.1600052\ttotal: 13s\tremaining: 0us\n",
      "0:\tlearn: 0.1965377\ttotal: 4.27s\tremaining: 29.9s\n",
      "1:\tlearn: 0.1787196\ttotal: 7.13s\tremaining: 21.4s\n",
      "2:\tlearn: 0.1784991\ttotal: 7.26s\tremaining: 12.1s\n",
      "3:\tlearn: 0.1771779\ttotal: 7.5s\tremaining: 7.5s\n",
      "4:\tlearn: 0.1738488\ttotal: 8.1s\tremaining: 4.86s\n",
      "5:\tlearn: 0.1644614\ttotal: 1m 56s\tremaining: 38.9s\n",
      "6:\tlearn: 0.1630734\ttotal: 1m 57s\tremaining: 16.7s\n",
      "7:\tlearn: 0.1627657\ttotal: 1m 57s\tremaining: 0us\n",
      "0:\tlearn: 0.2101185\ttotal: 1.71s\tremaining: 13.7s\n",
      "1:\tlearn: 0.1914100\ttotal: 1.98s\tremaining: 6.93s\n",
      "2:\tlearn: 0.1751651\ttotal: 4.51s\tremaining: 9.03s\n",
      "3:\tlearn: 0.1742543\ttotal: 5.2s\tremaining: 6.5s\n",
      "4:\tlearn: 0.1699469\ttotal: 8.54s\tremaining: 6.83s\n",
      "5:\tlearn: 0.1588888\ttotal: 1m 26s\tremaining: 43.4s\n",
      "6:\tlearn: 0.1583071\ttotal: 1m 26s\tremaining: 24.8s\n",
      "7:\tlearn: 0.1531615\ttotal: 1m 33s\tremaining: 11.6s\n",
      "8:\tlearn: 0.1517815\ttotal: 1m 33s\tremaining: 0us\n"
     ]
    }
   ],
   "source": [
    "#Cat boost\n",
    "train_pool = Pool(train_data, train_label, cat_features=[1,2,3,4,5,6,7,8,9,14])\n",
    "test_pool = Pool(test_data, cat_features=[1,2,3,4,5,6,7,8,9,14]) \n",
    "scores_cat_test = []\n",
    "scores_cat_train = []\n",
    "\n",
    "for k in range(5, 10):\n",
    "    model = Pipeline([\n",
    "        ('catboost', CatBoostClassifier(iterations=k, depth=16, learning_rate=1, loss_function='Logloss', logging_level='Verbose'))\n",
    "    ])\n",
    "    model.fit(train_pool)\n",
    "    \n",
    "    y_hat_test = model.predict_proba(X_test)\n",
    "    scores_cat_test.append(roc_auc_score(Y_test, y_hat_test[:, 1]))\n",
    "    \n",
    "    y_hat_train = model.predict_proba(X_train)\n",
    "    scores_cat_train.append(roc_auc_score(Y_train, y_hat_train[:, 1]))"
   ]
  },
  {
   "cell_type": "code",
   "execution_count": 19,
   "metadata": {
    "collapsed": false
   },
   "outputs": [
    {
     "data": {
      "image/png": "[encoded data removed]",
      "text/plain": [
       "<matplotlib.figure.Figure at 0x115c41d0>"
      ]
     },
     "metadata": {},
     "output_type": "display_data"
    }
   ],
   "source": [
    "plt.plot(scores_cat_test, label='test')\n",
    "plt.plot(scores_cat_train, label='train')\n",
    "plt.legend()\n",
    "plt.show()"
   ]
  },
  {
   "cell_type": "code",
   "execution_count": 108,
   "metadata": {
    "collapsed": false
   },
   "outputs": [
    {
     "name": "stdout",
     "output_type": "stream",
     "text": [
      "0:\tlearn: 0.2081895\ttotal: 158ms\tremaining: 631ms\n",
      "1:\tlearn: 0.1913172\ttotal: 263ms\tremaining: 394ms\n",
      "2:\tlearn: 0.1838183\ttotal: 608ms\tremaining: 405ms\n",
      "3:\tlearn: 0.1742678\ttotal: 1.01s\tremaining: 253ms\n",
      "4:\tlearn: 0.1728915\ttotal: 1.05s\tremaining: 0us\n",
      "0.947525499697\n"
     ]
    }
   ],
   "source": [
    "model = Pipeline([\n",
    "    ('catboost', CatBoostClassifier(iterations=10, depth=15, learning_rate=1, loss_function='Logloss', logging_level='Verbose'))\n",
    "])\n",
    "model.fit(train_pool)\n",
    "    \n",
    "y_hat_test = model.predict_proba(X_test)\n",
    "scores_cat_test.append(roc_auc_score(Y_test, y_hat_test[:, 1]))\n",
    "    \n",
    "y_hat_train = model.predict_proba(X_train)\n",
    "print(roc_auc_score(Y_train, y_hat_train[:, 1]))"
   ]
  },
  {
   "cell_type": "code",
   "execution_count": 22,
   "metadata": {
    "collapsed": false
   },
   "outputs": [
    {
     "name": "stdout",
     "output_type": "stream",
     "text": [
      "0:\tlearn: 0.2119746\ttotal: 160ms\tremaining: 1.44s\n",
      "\n",
      "Iteration with suspicious time 70.7 sec ignored in overall statistics.\n",
      "1:\tlearn: 0.1855338\ttotal: 160ms\tremaining: 1.44s\n",
      "2:\tlearn: 0.1804156\ttotal: 607ms\tremaining: 2.13s\n",
      "3:\tlearn: 0.1750856\ttotal: 5.74s\tremaining: 11.5s\n",
      "4:\tlearn: 0.1722174\ttotal: 11.9s\tremaining: 14.8s\n",
      "5:\tlearn: 0.1632247\ttotal: 1m 27s\tremaining: 1m 9s\n",
      "6:\tlearn: 0.1608936\ttotal: 1m 28s\tremaining: 44.1s\n",
      "7:\tlearn: 0.1578033\ttotal: 1m 35s\tremaining: 27.2s\n",
      "8:\tlearn: 0.1574194\ttotal: 1m 35s\tremaining: 12s\n",
      "9:\tlearn: 0.1479480\ttotal: 3m 21s\tremaining: 0us\n"
     ]
    }
   ],
   "source": [
    "#Cat boost\n",
    "pool = Pool(X, Y, cat_features=[1,2,3,4,5,6,7,8,9,14])\n",
    "scores_cat_test = []\n",
    "scores_cat_train = []\n",
    "\n",
    "\n",
    "model = Pipeline([\n",
    "    ('catboost', CatBoostClassifier(iterations=10, depth=16, learning_rate=1, loss_function='Logloss', logging_level='Verbose'))\n",
    "])\n",
    "model.fit(pool)\n",
    "    \n",
    "y_hat_test = model.predict_proba(X_test)\n",
    "scores_cat_test.append(roc_auc_score(Y_test, y_hat_test[:, 1]))\n",
    "    \n",
    "y_hat_train = model.predict_proba(X_train)\n",
    "scores_cat_train.append(roc_auc_score(Y_train, y_hat_train[:, 1]))"
   ]
  },
  {
   "cell_type": "code",
   "execution_count": 23,
   "metadata": {
    "collapsed": false
   },
   "outputs": [],
   "source": [
    "to_export_4 = model.predict_proba(data_test)"
   ]
  },
  {
   "cell_type": "code",
   "execution_count": 24,
   "metadata": {
    "collapsed": true
   },
   "outputs": [],
   "source": [
    "np.savetxt(r'Olapin_test4.csv',to_export_4,delimiter=',', fmt=('%f'))"
   ]
  }
 ],
 "metadata": {
  "anaconda-cloud": {},
  "kernelspec": {
   "display_name": "Python [py3k]",
   "language": "python",
   "name": "Python [py3k]"
  },
  "language_info": {
   "codemirror_mode": {
    "name": "ipython",
    "version": 3
   },
   "file_extension": ".py",
   "mimetype": "text/x-python",
   "name": "python",
   "nbconvert_exporter": "python",
   "pygments_lexer": "ipython3",
   "version": "3.4.5"
  }
 },
 "nbformat": 4,
 "nbformat_minor": 0
}
